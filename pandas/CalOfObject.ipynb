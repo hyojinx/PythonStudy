{
 "cells": [
  {
   "attachments": {},
   "cell_type": "markdown",
   "metadata": {},
   "source": [
    "add함수\n",
    "DataFrame에 다른 데이터프레임이나, Series, 스칼라 등 데이터를 더하는 메서드\n",
    "\"+\" 연산과 차이점\n",
    "fill_value 인수를 통해 계산 불가한 값을 채워 넣는다는 것"
   ]
  },
  {
   "attachments": {},
   "cell_type": "markdown",
   "metadata": {},
   "source": [
    "기본 사용법\n",
    "df.add(other, axis='columns', level=None, fill_value=None)\n",
    "other : 데이터프레임이나, Series, 스칼라 등 더할 데이터 값\n",
    "axis : 더할 레이블을 설정합니다. 0은 index, 1은 column ※Series일 경우 Index와 일치시킬 축\n",
    "level : multiIndex에서 계산할 Index의 레벨\n",
    "fill_value : NaN 값등의 누락 요소를 계산 전에 이 값으로 대체"
   ]
  },
  {
   "cell_type": "code",
   "execution_count": 1,
   "metadata": {},
   "outputs": [],
   "source": [
    "import pandas as pd"
   ]
  },
  {
   "cell_type": "code",
   "execution_count": 2,
   "metadata": {},
   "outputs": [
    {
     "name": "stdout",
     "output_type": "stream",
     "text": [
      "      col1  col2  col3\n",
      "row1     1    10   100\n",
      "row2     2    20   200\n",
      "row3     3    30   300\n"
     ]
    }
   ],
   "source": [
    "data = [[1,10,100],[2,20,200],[3,30,300]]\n",
    "col = ['col1','col2','col3']\n",
    "row = ['row1','row2','row3']\n",
    "df = pd.DataFrame(data=data,index=row,columns=col)\n",
    "print(df)"
   ]
  },
  {
   "cell_type": "code",
   "execution_count": 3,
   "metadata": {},
   "outputs": [
    {
     "name": "stdout",
     "output_type": "stream",
     "text": [
      "      col1  col2  col3\n",
      "row1     2    11   101\n",
      "row2     3    21   201\n",
      "row3     4    31   301\n",
      "      col1  col2  col3\n",
      "row1     2    11   101\n",
      "row2     3    21   201\n",
      "row3     4    31   301\n"
     ]
    }
   ],
   "source": [
    "result = df.add(1)\n",
    "print(result)\n",
    "result = df+1\n",
    "print(result)"
   ]
  },
  {
   "cell_type": "code",
   "execution_count": 4,
   "metadata": {},
   "outputs": [
    {
     "name": "stdout",
     "output_type": "stream",
     "text": [
      "      col1\n",
      "row1     3\n",
      "row2     4\n",
      "row3     5\n"
     ]
    }
   ],
   "source": [
    "data2  = [[3],[4],[5]]\n",
    "df2 = pd.DataFrame(data=data2,index=['row1','row2','row3'],columns=['col1'])\n",
    "print(df2)"
   ]
  },
  {
   "cell_type": "code",
   "execution_count": 5,
   "metadata": {},
   "outputs": [
    {
     "name": "stdout",
     "output_type": "stream",
     "text": [
      "      col1  col2  col3\n",
      "row1     4   NaN   NaN\n",
      "row2     6   NaN   NaN\n",
      "row3     8   NaN   NaN\n"
     ]
    }
   ],
   "source": [
    "result = df.add(df2)\n",
    "print(result)"
   ]
  },
  {
   "cell_type": "code",
   "execution_count": 6,
   "metadata": {},
   "outputs": [
    {
     "name": "stdout",
     "output_type": "stream",
     "text": [
      "      col1  col2   col3\n",
      "row1     4  10.0  100.0\n",
      "row2     6  20.0  200.0\n",
      "row3     8  30.0  300.0\n"
     ]
    }
   ],
   "source": [
    "result = df.add(df2,fill_value=0)\n",
    "print(result)"
   ]
  },
  {
   "attachments": {},
   "cell_type": "markdown",
   "metadata": {},
   "source": [
    "sub함수\n",
    "DataFrame에 다른 데이터프레임이나, Series, 스칼라 등 데이터를 빼는 메서드\n",
    "기본 사용법\n",
    "df.sub(other, axis='columns', level=None, fill_value=None)"
   ]
  },
  {
   "cell_type": "code",
   "execution_count": 7,
   "metadata": {},
   "outputs": [
    {
     "name": "stdout",
     "output_type": "stream",
     "text": [
      "      col1  col2  col3\n",
      "row1     0     9    99\n",
      "row2     1    19   199\n",
      "row3     2    29   299\n",
      "      col1  col2  col3\n",
      "row1     0     9    99\n",
      "row2     1    19   199\n",
      "row3     2    29   299\n"
     ]
    }
   ],
   "source": [
    "result = df.sub(1)\n",
    "print(result)\n",
    "result = df-1\n",
    "print(result)"
   ]
  },
  {
   "cell_type": "code",
   "execution_count": 8,
   "metadata": {},
   "outputs": [
    {
     "name": "stdout",
     "output_type": "stream",
     "text": [
      "      col1  col2   col3\n",
      "row1    -2  10.0  100.0\n",
      "row2    -2  20.0  200.0\n",
      "row3    -2  30.0  300.0\n"
     ]
    }
   ],
   "source": [
    "result = df.sub(df2,fill_value=0)\n",
    "print(result)"
   ]
  },
  {
   "attachments": {},
   "cell_type": "markdown",
   "metadata": {},
   "source": [
    "mul함수\n",
    "DataFrame에 다른 데이터프레임이나, Series, 스칼라 등 데이터를 곱하는 메서드"
   ]
  },
  {
   "cell_type": "code",
   "execution_count": 9,
   "metadata": {},
   "outputs": [
    {
     "name": "stdout",
     "output_type": "stream",
     "text": [
      "      col1  col2  col3\n",
      "row1     2    20   200\n",
      "row2     4    40   400\n",
      "row3     6    60   600\n",
      "      col1  col2  col3\n",
      "row1     2    20   200\n",
      "row2     4    40   400\n",
      "row3     6    60   600\n"
     ]
    }
   ],
   "source": [
    "result = df.mul(2)\n",
    "print(result)\n",
    "result = df*2\n",
    "print(result)"
   ]
  },
  {
   "cell_type": "code",
   "execution_count": 10,
   "metadata": {},
   "outputs": [
    {
     "name": "stdout",
     "output_type": "stream",
     "text": [
      "      col1  col2   col3\n",
      "row1     3  10.0  100.0\n",
      "row2     8  20.0  200.0\n",
      "row3    15  30.0  300.0\n"
     ]
    }
   ],
   "source": [
    "result = df.mul(df2,fill_value=1)\n",
    "print(result)"
   ]
  },
  {
   "attachments": {},
   "cell_type": "markdown",
   "metadata": {},
   "source": [
    "div함수\n",
    "DataFrame에 다른 데이터프레임이나, Series, 스칼라 등 데이터를 나누는 메서드"
   ]
  },
  {
   "cell_type": "code",
   "execution_count": 11,
   "metadata": {},
   "outputs": [
    {
     "name": "stdout",
     "output_type": "stream",
     "text": [
      "      col1  col2   col3\n",
      "row1   0.5   5.0   50.0\n",
      "row2   1.0  10.0  100.0\n",
      "row3   1.5  15.0  150.0\n",
      "      col1  col2   col3\n",
      "row1   0.5   5.0   50.0\n",
      "row2   1.0  10.0  100.0\n",
      "row3   1.5  15.0  150.0\n"
     ]
    }
   ],
   "source": [
    "result = df.div(2)\n",
    "print(result)\n",
    "result = df/2\n",
    "print(result)"
   ]
  },
  {
   "cell_type": "code",
   "execution_count": 12,
   "metadata": {},
   "outputs": [
    {
     "name": "stdout",
     "output_type": "stream",
     "text": [
      "      col1\n",
      "row1     0\n",
      "row2     2\n",
      "row3     3\n"
     ]
    }
   ],
   "source": [
    "data3  = [[0],[2],[3]]\n",
    "df3 = pd.DataFrame(data=data3,index=['row1','row2','row3'],columns=['col1'])\n",
    "print(df3)"
   ]
  },
  {
   "cell_type": "code",
   "execution_count": 13,
   "metadata": {},
   "outputs": [
    {
     "name": "stdout",
     "output_type": "stream",
     "text": [
      "      col1  col2   col3\n",
      "row1   inf  10.0  100.0\n",
      "row2   1.0  20.0  200.0\n",
      "row3   1.0  30.0  300.0\n"
     ]
    }
   ],
   "source": [
    "result = df.div(df3,fill_value=1)\n",
    "print(result)"
   ]
  },
  {
   "attachments": {},
   "cell_type": "markdown",
   "metadata": {},
   "source": [
    "mod함수\n",
    "DataFrame에 다른 데이터프레임이나, Series, 스칼라 등 데이터를 나눴을때의 나머지를 반환하는 메서드\n",
    "% 연산과 동일"
   ]
  },
  {
   "cell_type": "code",
   "execution_count": 14,
   "metadata": {},
   "outputs": [
    {
     "name": "stdout",
     "output_type": "stream",
     "text": [
      "      col1  col2  col3\n",
      "row1     1     3     2\n",
      "row2     2     6     4\n",
      "row3     3     2     6\n",
      "      col1  col2  col3\n",
      "row1     1     3     2\n",
      "row2     2     6     4\n",
      "row3     3     2     6\n"
     ]
    }
   ],
   "source": [
    "result = df.mod(7)\n",
    "print(result)\n",
    "result = df%7\n",
    "print(result)"
   ]
  },
  {
   "cell_type": "code",
   "execution_count": 15,
   "metadata": {},
   "outputs": [
    {
     "name": "stdout",
     "output_type": "stream",
     "text": [
      "      col1  col2  col3\n",
      "row1     1   0.0   0.0\n",
      "row2     2   0.0   0.0\n",
      "row3     3   0.0   0.0\n"
     ]
    }
   ],
   "source": [
    "result = df.mod(df2,fill_value=1)\n",
    "print(result)"
   ]
  },
  {
   "attachments": {},
   "cell_type": "markdown",
   "metadata": {},
   "source": [
    "pow함수\n",
    "DataFrame에 다른 데이터프레임이나, Series, 스칼라 등 데이터를 거듭제곱\n",
    "** 연산과 동일"
   ]
  },
  {
   "cell_type": "code",
   "execution_count": 16,
   "metadata": {},
   "outputs": [
    {
     "name": "stdout",
     "output_type": "stream",
     "text": [
      "      col1   col2      col3\n",
      "row1     1   1000   1000000\n",
      "row2     8   8000   8000000\n",
      "row3    27  27000  27000000\n",
      "      col1   col2      col3\n",
      "row1     1   1000   1000000\n",
      "row2     8   8000   8000000\n",
      "row3    27  27000  27000000\n"
     ]
    }
   ],
   "source": [
    "result = df.pow(3)\n",
    "print(result)\n",
    "result = df**3\n",
    "print(result)"
   ]
  },
  {
   "cell_type": "code",
   "execution_count": 17,
   "metadata": {},
   "outputs": [
    {
     "name": "stdout",
     "output_type": "stream",
     "text": [
      "      col1  col2  col3\n",
      "row1     1   1.0   1.0\n",
      "row2     4   1.0   1.0\n",
      "row3    27   1.0   1.0\n"
     ]
    }
   ],
   "source": [
    "result = df.pow(df3,fill_value=0)\n",
    "print(result)"
   ]
  },
  {
   "attachments": {},
   "cell_type": "markdown",
   "metadata": {},
   "source": [
    "#### 행렬곱\n",
    "     col1 col2                col1 col2                  col1   col2<br>\n",
    "row1    A    B     x     row1    a    b     =     row1  Aa+bc  Ab+Bd<br>\n",
    "row2    C    D           row2    c    d           row2  Ca+Dc  Cb+Dd<br>\n",
    "### 기본 사용법\n",
    "df.dot(other)"
   ]
  },
  {
   "cell_type": "code",
   "execution_count": 18,
   "metadata": {},
   "outputs": [
    {
     "name": "stdout",
     "output_type": "stream",
     "text": [
      "   0  1\n",
      "0  1  2\n",
      "1  3  4\n",
      "   0  1\n",
      "0  5  6\n",
      "1  7  8\n"
     ]
    }
   ],
   "source": [
    "col = ['col1','col2']\n",
    "row = ['row1','row2']\n",
    "data1 = [[1,2],[3,4]]\n",
    "data2 = [[5,6],[7,8]]\n",
    "df1 = pd.DataFrame(data=data1)\n",
    "df2 = pd.DataFrame(data=data2)\n",
    "print(df1)\n",
    "print(df2)"
   ]
  },
  {
   "cell_type": "code",
   "execution_count": 19,
   "metadata": {},
   "outputs": [
    {
     "name": "stdout",
     "output_type": "stream",
     "text": [
      "    0   1\n",
      "0  19  22\n",
      "1  43  50\n"
     ]
    }
   ],
   "source": [
    "df3 = df1.dot(df2)\n",
    "print(df3)"
   ]
  }
 ],
 "metadata": {
  "kernelspec": {
   "display_name": "base",
   "language": "python",
   "name": "python3"
  },
  "language_info": {
   "codemirror_mode": {
    "name": "ipython",
    "version": 3
   },
   "file_extension": ".py",
   "mimetype": "text/x-python",
   "name": "python",
   "nbconvert_exporter": "python",
   "pygments_lexer": "ipython3",
   "version": "3.9.13"
  },
  "orig_nbformat": 4,
  "vscode": {
   "interpreter": {
    "hash": "ad2bdc8ecc057115af97d19610ffacc2b4e99fae6737bb82f5d7fb13d2f2c186"
   }
  }
 },
 "nbformat": 4,
 "nbformat_minor": 2
}
