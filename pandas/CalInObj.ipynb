{
 "cells": [
  {
   "attachments": {},
   "cell_type": "markdown",
   "metadata": {},
   "source": [
    "### round 함수\n",
    "DataFrame 객체 내의 요소를 반올림하는 메서드\n",
    "#### 기본 사용법\n",
    "df.round(decimals=0, args, kwargs)<br>\n",
    "decimals : 소수 n번째 자리 '까지' 반올림<br>\n",
    "    만약 음수면 10의 n승 자리 까지 반올림<br>"
   ]
  },
  {
   "cell_type": "code",
   "execution_count": 222,
   "metadata": {},
   "outputs": [],
   "source": [
    "import pandas as pd\n",
    "import numpy as np"
   ]
  },
  {
   "cell_type": "code",
   "execution_count": 223,
   "metadata": {},
   "outputs": [
    {
     "name": "stdout",
     "output_type": "stream",
     "text": [
      "           col1       col2       col3\n",
      "row1  60.486233  20.771086  73.754785\n",
      "row2  98.790128  83.547950  67.425870\n",
      "row3  95.060189  49.372102  54.367847\n"
     ]
    }
   ],
   "source": [
    "col = ['col1','col2','col3']\n",
    "row = ['row1','row2','row3']\n",
    "data = np.random.rand(3,3)*100\n",
    "df = pd.DataFrame(data=data, index=row, columns=col)\n",
    "print(df)"
   ]
  },
  {
   "cell_type": "code",
   "execution_count": 224,
   "metadata": {},
   "outputs": [
    {
     "name": "stdout",
     "output_type": "stream",
     "text": [
      "      col1  col2  col3\n",
      "row1  60.0  21.0  74.0\n",
      "row2  99.0  84.0  67.0\n",
      "row3  95.0  49.0  54.0\n",
      "      col1  col2  col3\n",
      "row1  60.5  20.8  73.8\n",
      "row2  98.8  83.5  67.4\n",
      "row3  95.1  49.4  54.4\n",
      "       col1   col2   col3\n",
      "row1  60.49  20.77  73.75\n",
      "row2  98.79  83.55  67.43\n",
      "row3  95.06  49.37  54.37\n",
      "       col1  col2  col3\n",
      "row1   60.0  20.0  70.0\n",
      "row2  100.0  80.0  70.0\n",
      "row3  100.0  50.0  50.0\n"
     ]
    }
   ],
   "source": [
    "print(df.round(0))\n",
    "print(df.round(1))\n",
    "print(df.round(2))\n",
    "print(df.round(-1))\n"
   ]
  },
  {
   "attachments": {},
   "cell_type": "markdown",
   "metadata": {},
   "source": [
    "#### sum 메서드\n",
    "객체의 행이나 열의 총 합계를 구하는 메서드\n",
    "기본 사용법\n",
    "df.sum(axis=None, skipna=None, level=None, numeric_only=None, min_count=0, kwargs)\n",
    "axis : { 0 : 행 / 1 : 열} 더할 레이블을 선택\n",
    "skipna : {True or False} Na가 존재할 경우 무시할지의 여부\n",
    "    기본값은 True\n",
    "level : Multi Index일 경우 레벨을 설정\n",
    "numeric_only : 숫자 데이터만 사용할지의 여부\n",
    "min_count : 계산에 필요한 숫자의 최소 갯수"
   ]
  },
  {
   "cell_type": "code",
   "execution_count": 225,
   "metadata": {},
   "outputs": [
    {
     "name": "stdout",
     "output_type": "stream",
     "text": [
      "      col1  col2  col3\n",
      "row1     1   2.0     3\n",
      "row2     4   5.0     6\n",
      "row3     7   NaN     9\n"
     ]
    }
   ],
   "source": [
    "col = ['col1','col2','col3']\n",
    "row = ['row1','row2','row3']\n",
    "data = [[1,2,3],[4,5,6],[7,np.NaN,9]]\n",
    "df = pd.DataFrame(data=data,index=row,columns=col)\n",
    "print(df)"
   ]
  },
  {
   "cell_type": "code",
   "execution_count": 226,
   "metadata": {},
   "outputs": [
    {
     "name": "stdout",
     "output_type": "stream",
     "text": [
      "col1    12.0\n",
      "col2     7.0\n",
      "col3    18.0\n",
      "dtype: float64\n"
     ]
    }
   ],
   "source": [
    "print(df.sum(axis=0))"
   ]
  },
  {
   "cell_type": "code",
   "execution_count": 227,
   "metadata": {},
   "outputs": [
    {
     "name": "stdout",
     "output_type": "stream",
     "text": [
      "row1     6.0\n",
      "row2    15.0\n",
      "row3    16.0\n",
      "dtype: float64\n"
     ]
    }
   ],
   "source": [
    "print(df.sum(axis=1))"
   ]
  },
  {
   "cell_type": "code",
   "execution_count": 228,
   "metadata": {},
   "outputs": [
    {
     "name": "stdout",
     "output_type": "stream",
     "text": [
      "col1    12.0\n",
      "col2     NaN\n",
      "col3    18.0\n",
      "dtype: float64\n"
     ]
    }
   ],
   "source": [
    "print(df.sum(axis=0,skipna=False))"
   ]
  },
  {
   "cell_type": "code",
   "execution_count": 229,
   "metadata": {},
   "outputs": [
    {
     "name": "stdout",
     "output_type": "stream",
     "text": [
      "row1     6.0\n",
      "row2    15.0\n",
      "row3     NaN\n",
      "dtype: float64\n"
     ]
    }
   ],
   "source": [
    "print(df.sum(axis=1,min_count=3))"
   ]
  },
  {
   "attachments": {},
   "cell_type": "markdown",
   "metadata": {},
   "source": [
    "prod 함수\n",
    "객체의 행이나 열의 곱을 구하는 메서드\n",
    "기본 사용법\n",
    "df.prod(axis=None, skipna=None, level=None, numeric_only=None, min_count=0, kwargs)"
   ]
  },
  {
   "cell_type": "code",
   "execution_count": 230,
   "metadata": {},
   "outputs": [
    {
     "name": "stdout",
     "output_type": "stream",
     "text": [
      "col1     28.0\n",
      "col2     10.0\n",
      "col3    162.0\n",
      "dtype: float64\n"
     ]
    }
   ],
   "source": [
    "print(df.prod(axis=0))"
   ]
  },
  {
   "cell_type": "code",
   "execution_count": 231,
   "metadata": {},
   "outputs": [
    {
     "name": "stdout",
     "output_type": "stream",
     "text": [
      "row1      6.0\n",
      "row2    120.0\n",
      "row3     63.0\n",
      "dtype: float64\n"
     ]
    }
   ],
   "source": [
    "print(df.prod(axis=1))"
   ]
  },
  {
   "cell_type": "code",
   "execution_count": 232,
   "metadata": {},
   "outputs": [
    {
     "name": "stdout",
     "output_type": "stream",
     "text": [
      "col1     28.0\n",
      "col2      NaN\n",
      "col3    162.0\n",
      "dtype: float64\n"
     ]
    }
   ],
   "source": [
    "print(df.prod(axis=0, skipna=False))"
   ]
  },
  {
   "cell_type": "code",
   "execution_count": 233,
   "metadata": {},
   "outputs": [
    {
     "name": "stdout",
     "output_type": "stream",
     "text": [
      "row1      6.0\n",
      "row2    120.0\n",
      "row3      NaN\n",
      "dtype: float64\n"
     ]
    }
   ],
   "source": [
    "print(df.prod(axis=1, min_count=3))"
   ]
  },
  {
   "attachments": {},
   "cell_type": "markdown",
   "metadata": {},
   "source": [
    "abs함수\n",
    "각 요소의 절댓값을 반환하는 메서드\n",
    "기본 사용법\n",
    "df.abs( )"
   ]
  },
  {
   "cell_type": "code",
   "execution_count": 234,
   "metadata": {},
   "outputs": [
    {
     "name": "stdout",
     "output_type": "stream",
     "text": [
      "      col1  col2      col3\n",
      "row1    -1   2.0 -3.5+0.0j\n",
      "row2     4  -5.5  3.0+4.0j\n",
      "row3     7   NaN  0.0+0.0j\n"
     ]
    }
   ],
   "source": [
    "col = ['col1','col2','col3']\n",
    "row = ['row1','row2','row3']\n",
    "data = [[-1,2,-3.5],[4,-5.5, 3+4j],[7,np.NaN,0]]\n",
    "df = pd.DataFrame(data=data,index=row,columns=col)\n",
    "print(df)"
   ]
  },
  {
   "cell_type": "code",
   "execution_count": 235,
   "metadata": {},
   "outputs": [
    {
     "name": "stdout",
     "output_type": "stream",
     "text": [
      "      col1  col2  col3\n",
      "row1     1   2.0   3.5\n",
      "row2     4   5.5   5.0\n",
      "row3     7   NaN   0.0\n"
     ]
    }
   ],
   "source": [
    "print(df.abs())"
   ]
  },
  {
   "attachments": {},
   "cell_type": "markdown",
   "metadata": {},
   "source": [
    "transpose함수\n",
    "Dataframe객체를 전치 하는 메서드\n",
    "기본 사용법\n",
    "df.transpose(args, copy=False)"
   ]
  },
  {
   "cell_type": "code",
   "execution_count": 236,
   "metadata": {},
   "outputs": [
    {
     "name": "stdout",
     "output_type": "stream",
     "text": [
      "     col1  col2  col3\n",
      "row1    A     1     2\n",
      "row2    B     3     4\n",
      "row3    C     5     6\n",
      "row4    D     7     8\n"
     ]
    }
   ],
   "source": [
    "col = ['col1','col2','col3']\n",
    "row = ['row1','row2','row3','row4']\n",
    "data = [['A',1,2],['B',3,4],['C',5,6],['D',7,8]]\n",
    "df = pd.DataFrame(data=data,index=row,columns=col)\n",
    "print(df)"
   ]
  },
  {
   "cell_type": "code",
   "execution_count": 237,
   "metadata": {},
   "outputs": [
    {
     "name": "stdout",
     "output_type": "stream",
     "text": [
      "     row1 row2 row3 row4\n",
      "col1    A    B    C    D\n",
      "col2    1    3    5    7\n",
      "col3    2    4    6    8\n",
      "     row1 row2 row3 row4\n",
      "col1    A    B    C    D\n",
      "col2    1    3    5    7\n",
      "col3    2    4    6    8\n"
     ]
    }
   ],
   "source": [
    "print(df.transpose())\n",
    "print(df.T)"
   ]
  },
  {
   "attachments": {},
   "cell_type": "markdown",
   "metadata": {},
   "source": [
    "### rank 함수\n",
    "축에 대해서 순위를 매기는 메서드\n",
    "#### 기본 사용법\n",
    "df.rank(axis=0, method='average', numeric_only=None, na_option='keep', ascending=True, pct=False) <br>\n",
    "axis : {0 : index / 1 : columns}  <br>\n",
    "method : {'average' / 'min' / 'max' / 'first' / 'dense'}  <br>\n",
    "    동순위 일때 처리 방법 <br>\n",
    "    average는 평균, min은 낮은순위, max는 높은순위,  <br>\n",
    "    first는 나타나는순서대로  <br>\n",
    "    dense의 경우는 min과 같지만 그룹간 순위는 항상 1씩 증가 <br>\n",
    "numeric_only : {True / False} 숫자만 순위를 매길지 여부 <br>\n",
    "na_option : {'keep' / 'top' / 'bottom'} NaN값의 처리 방법  <br>\n",
    "    keep의 경우 NaN순위 할당, top의 경우 낮은순위 할당,  <br>\n",
    "    bottom의 경우 높은 순위를 할당 <br>\n",
    "ascending : {True / False} 오름차순으로 할지의 여부 <br>\n",
    "pct : {True / False} 순위를 백분위수형식으로 할지 여부 <br>"
   ]
  },
  {
   "cell_type": "code",
   "execution_count": 238,
   "metadata": {},
   "outputs": [
    {
     "name": "stdout",
     "output_type": "stream",
     "text": [
      "   Value\n",
      "A★     5\n",
      "B★     5\n",
      "C   <NA>\n",
      "D☆     3\n",
      "E   -3.1\n",
      "F★     5\n",
      "G    0.4\n",
      "H    6.7\n",
      "I☆     3\n"
     ]
    }
   ],
   "source": [
    "data = [[5],[5],[pd.NA],[3],[-3.1],[5],[0.4],[6.7],[3]]\n",
    "row = ['A★','B★','C','D☆','E','F★','G','H','I☆']\n",
    "df = pd.DataFrame(data=data, index=row, columns=['Value'])\n",
    "print(df)"
   ]
  },
  {
   "cell_type": "code",
   "execution_count": 239,
   "metadata": {},
   "outputs": [
    {
     "name": "stdout",
     "output_type": "stream",
     "text": [
      "   Value  average  min  max  first  dense\n",
      "A★     5      6.0  5.0  7.0    5.0    4.0\n",
      "B★     5      6.0  5.0  7.0    6.0    4.0\n",
      "C   <NA>      NaN  NaN  NaN    NaN    NaN\n",
      "D☆     3      3.5  3.0  4.0    3.0    3.0\n",
      "E   -3.1      1.0  1.0  1.0    1.0    1.0\n",
      "F★     5      6.0  5.0  7.0    7.0    4.0\n",
      "G    0.4      2.0  2.0  2.0    2.0    2.0\n",
      "H    6.7      8.0  8.0  8.0    8.0    5.0\n",
      "I☆     3      3.5  3.0  4.0    4.0    3.0\n"
     ]
    }
   ],
   "source": [
    "df['average']=df['Value'].rank(method='average')\n",
    "df['min']=df['Value'].rank(method='min')\n",
    "df['max']=df['Value'].rank(method='max')\n",
    "df['first']=df['Value'].rank(method='first')\n",
    "df['dense']=df['Value'].rank(method='dense')\n",
    "print(df)"
   ]
  },
  {
   "cell_type": "code",
   "execution_count": 240,
   "metadata": {},
   "outputs": [
    {
     "name": "stdout",
     "output_type": "stream",
     "text": [
      "   Value  average  min  max  first  dense  keep  top  bottom     pct\n",
      "A★     5      6.0  5.0  7.0    5.0    4.0   6.0  7.0     6.0  0.7500\n",
      "B★     5      6.0  5.0  7.0    6.0    4.0   6.0  7.0     6.0  0.7500\n",
      "C   <NA>      NaN  NaN  NaN    NaN    NaN   NaN  1.0     9.0     NaN\n",
      "D☆     3      3.5  3.0  4.0    3.0    3.0   3.5  4.5     3.5  0.4375\n",
      "E   -3.1      1.0  1.0  1.0    1.0    1.0   1.0  2.0     1.0  0.1250\n",
      "F★     5      6.0  5.0  7.0    7.0    4.0   6.0  7.0     6.0  0.7500\n",
      "G    0.4      2.0  2.0  2.0    2.0    2.0   2.0  3.0     2.0  0.2500\n",
      "H    6.7      8.0  8.0  8.0    8.0    5.0   8.0  9.0     8.0  1.0000\n",
      "I☆     3      3.5  3.0  4.0    4.0    3.0   3.5  4.5     3.5  0.4375\n"
     ]
    }
   ],
   "source": [
    "df['keep']=df['Value'].rank(na_option='keep')\n",
    "df['top']=df['Value'].rank(na_option='top')\n",
    "df['bottom']=df['Value'].rank(na_option='bottom')\n",
    "df['pct']=df['Value'].rank(pct=True)\n",
    "print(df)"
   ]
  },
  {
   "attachments": {},
   "cell_type": "markdown",
   "metadata": {},
   "source": [
    "diff함수\n",
    "한 객체 내에서 열과 열 / 행과 행의 차이를 출력하는 메서드\n",
    "기본 사용법\n",
    "df.diff(periods=1, axis=0)\n",
    "axis : 비교할 축을 지정\n",
    "    axis=0 인 경우 행 비교, axis=1인 경우 열 끼리 비교\n",
    "periods : 비교할 간격을 지정\n",
    "    기본은 +1로 바로 이전 값과 비교"
   ]
  },
  {
   "cell_type": "code",
   "execution_count": 241,
   "metadata": {},
   "outputs": [
    {
     "name": "stdout",
     "output_type": "stream",
     "text": [
      "   col1  col2  col3\n",
      "0     1     1     8\n",
      "1     2     2     7\n",
      "2     3     4     6\n",
      "3     4     8     5\n",
      "4     5    16     4\n",
      "5     6    32     3\n",
      "6     7    64     2\n",
      "7     8   128     1\n"
     ]
    }
   ],
   "source": [
    "a = [1,2,3,4,5,6,7,8]\n",
    "b = [1,2,4,8,16,32,64,128]\n",
    "c = [8,7,6,5,4,3,2,1]\n",
    "data = {\"col1\":a,\"col2\":b,\"col3\":c}\n",
    "df = pd.DataFrame(data)\n",
    "print(df)"
   ]
  },
  {
   "cell_type": "code",
   "execution_count": 242,
   "metadata": {},
   "outputs": [
    {
     "name": "stdout",
     "output_type": "stream",
     "text": [
      "   col1  col2  col3\n",
      "0   NaN   NaN   NaN\n",
      "1   1.0   1.0  -1.0\n",
      "2   1.0   2.0  -1.0\n",
      "3   1.0   4.0  -1.0\n",
      "4   1.0   8.0  -1.0\n",
      "5   1.0  16.0  -1.0\n",
      "6   1.0  32.0  -1.0\n",
      "7   1.0  64.0  -1.0\n"
     ]
    }
   ],
   "source": [
    "print(df.diff(axis=0))"
   ]
  },
  {
   "cell_type": "code",
   "execution_count": 243,
   "metadata": {},
   "outputs": [
    {
     "name": "stdout",
     "output_type": "stream",
     "text": [
      "   col1  col2  col3\n",
      "0   NaN     0     7\n",
      "1   NaN     0     5\n",
      "2   NaN     1     2\n",
      "3   NaN     4    -3\n",
      "4   NaN    11   -12\n",
      "5   NaN    26   -29\n",
      "6   NaN    57   -62\n",
      "7   NaN   120  -127\n"
     ]
    }
   ],
   "source": [
    "print(df.diff(axis=1))"
   ]
  },
  {
   "cell_type": "code",
   "execution_count": 244,
   "metadata": {},
   "outputs": [
    {
     "name": "stdout",
     "output_type": "stream",
     "text": [
      "   col1  col2  col3\n",
      "0     1     1     8\n",
      "1     2     2     7\n",
      "2     3     4     6\n",
      "3     4     8     5\n",
      "4     5    16     4\n",
      "5     6    32     3\n",
      "6     7    64     2\n",
      "7     8   128     1\n",
      "   col1   col2  col3\n",
      "0   NaN    NaN   NaN\n",
      "1   NaN    NaN   NaN\n",
      "2   NaN    NaN   NaN\n",
      "3   3.0    7.0  -3.0\n",
      "4   3.0   14.0  -3.0\n",
      "5   3.0   28.0  -3.0\n",
      "6   3.0   56.0  -3.0\n",
      "7   3.0  112.0  -3.0\n"
     ]
    }
   ],
   "source": [
    "print(df)\n",
    "print(df.diff(periods=3))"
   ]
  },
  {
   "cell_type": "code",
   "execution_count": 245,
   "metadata": {},
   "outputs": [
    {
     "name": "stdout",
     "output_type": "stream",
     "text": [
      "   col1  col2  col3\n",
      "0  -2.0  -3.0   2.0\n",
      "1  -2.0  -6.0   2.0\n",
      "2  -2.0 -12.0   2.0\n",
      "3  -2.0 -24.0   2.0\n",
      "4  -2.0 -48.0   2.0\n",
      "5  -2.0 -96.0   2.0\n",
      "6   NaN   NaN   NaN\n",
      "7   NaN   NaN   NaN\n"
     ]
    }
   ],
   "source": [
    "print(df.diff(periods=-2))"
   ]
  },
  {
   "attachments": {},
   "cell_type": "markdown",
   "metadata": {},
   "source": [
    "### pct_change 함수\n",
    "한 객체 내에서 행과 행의 차이를 현재값과의 백분율로 출력하는 메서드<br>\n",
    "(다음행 - 현재행)÷현재행\n",
    "##### 기본 사용법\n",
    "df.pct_change(periods=1, fill_method='pad', limit=None, freq=None, kwargs)<br>\n",
    "periods : 비교할 간격을 지정<br>\n",
    "    기본은 +1로 바로 이전 값과 비교<br>\n",
    "fill_method : {ffill : 앞의 값으로 채움 / bfill : 뒤의 값으로 채움}<br>\n",
    "    결측치를 대체할 값<br>\n",
    "limit : 결측값을 몇개나 대체할지<br>\n",
    "freq : 시계열 API에서 사용할 증분을 지정<br>\n",
    ">결측치/결측값(Missing value): 데이터에 값이 없는 것 NA,Null<br>\n",
    "    처리방법 중요(삭제/추측)"
   ]
  },
  {
   "cell_type": "code",
   "execution_count": 246,
   "metadata": {},
   "outputs": [
    {
     "name": "stdout",
     "output_type": "stream",
     "text": [
      "   col1  col2  col3\n",
      "0     1     1     1\n",
      "1     1     2  <NA>\n",
      "2     4     4  <NA>\n",
      "3     4     8  <NA>\n",
      "4     1    16    16\n",
      "5     1    32    64\n"
     ]
    }
   ],
   "source": [
    "N=pd.NA\n",
    "a = [1,1,4,4,1,1]\n",
    "b = [1,2,4,8,16,32]\n",
    "c = [1,N,N,N,16,64]\n",
    "data = {\"col1\":a,\"col2\":b,\"col3\":c}\n",
    "df = pd.DataFrame(data)\n",
    "print(df)"
   ]
  },
  {
   "cell_type": "code",
   "execution_count": 247,
   "metadata": {},
   "outputs": [
    {
     "name": "stdout",
     "output_type": "stream",
     "text": [
      "   col1  col2  col3\n",
      "0   NaN   NaN   NaN\n",
      "1  0.00   1.0   0.0\n",
      "2  3.00   1.0   0.0\n",
      "3  0.00   1.0   0.0\n",
      "4 -0.75   1.0  15.0\n",
      "5  0.00   1.0   3.0\n"
     ]
    }
   ],
   "source": [
    "print(df.pct_change())"
   ]
  },
  {
   "cell_type": "code",
   "execution_count": 248,
   "metadata": {},
   "outputs": [
    {
     "name": "stdout",
     "output_type": "stream",
     "text": [
      "   col1  col2  col3\n",
      "0   NaN   NaN   NaN\n",
      "1   NaN   NaN   NaN\n",
      "2  3.00   3.0   0.0\n",
      "3  3.00   3.0   0.0\n",
      "4 -0.75   3.0  15.0\n",
      "5 -0.75   3.0  63.0\n"
     ]
    }
   ],
   "source": [
    "print(df.pct_change(periods=2))"
   ]
  },
  {
   "cell_type": "code",
   "execution_count": 249,
   "metadata": {},
   "outputs": [
    {
     "name": "stdout",
     "output_type": "stream",
     "text": [
      "   col1  col2    col3\n",
      "0  0.00  -0.5  0.0000\n",
      "1 -0.75  -0.5  0.0000\n",
      "2  0.00  -0.5  0.0000\n",
      "3  3.00  -0.5 -0.9375\n",
      "4  0.00  -0.5 -0.7500\n",
      "5   NaN   NaN     NaN\n"
     ]
    }
   ],
   "source": [
    "print(df.pct_change(periods=-1))"
   ]
  },
  {
   "cell_type": "code",
   "execution_count": 250,
   "metadata": {},
   "outputs": [
    {
     "name": "stdout",
     "output_type": "stream",
     "text": [
      "   col1  col2  col3\n",
      "0   NaN   NaN   NaN\n",
      "1  0.00   1.0   0.0\n",
      "2  3.00   1.0   0.0\n",
      "3  0.00   1.0   0.0\n",
      "4 -0.75   1.0  15.0\n",
      "5  0.00   1.0   3.0\n",
      "   col1  col2  col3\n",
      "0   NaN   NaN   NaN\n",
      "1  0.00   1.0  15.0\n",
      "2  3.00   1.0   0.0\n",
      "3  0.00   1.0   0.0\n",
      "4 -0.75   1.0   0.0\n",
      "5  0.00   1.0   3.0\n"
     ]
    }
   ],
   "source": [
    "print(df.pct_change(fill_method='ffill'))\n",
    "print(df.pct_change(fill_method='bfill'))"
   ]
  },
  {
   "attachments": {},
   "cell_type": "markdown",
   "metadata": {},
   "source": [
    "### expanding 함수\n",
    "행이나 열의 값에 대해 누적으로 연산을 수행하는 메서드<br>\n",
    "#### 기본 사용법<br>\n",
    "df.expanding(min_periods=1, center=None, axis=0, method='single').추가메서드()<br>\n",
    "min_periods : 연산을 수행할 요소의 최소 갯수 작으면 NaN을 출력<br>\n",
    "axis : 누적 연산을 수행할 축을 지정<br>\n",
    "method : {single / table} 연산을 한 줄씩 수행할지 아니면 전체 테이블에 대해서 롤링을 수행할지 여부<br>\n",
    ">기본값은 'single'로 한 줄씩 연산을 수행<br>\n",
    ">'table'을 사용하기 위해서는 numba 라이브러리가 설치되어있어야 하며,<br>\n",
    ">추가 연산 메서드에서 engine=numba로 설정<br>"
   ]
  },
  {
   "cell_type": "code",
   "execution_count": 251,
   "metadata": {},
   "outputs": [
    {
     "name": "stdout",
     "output_type": "stream",
     "text": [
      "      col1  col2\n",
      "row1     1     3\n",
      "row2     2     7\n",
      "row3     3     5\n",
      "row4     4     6\n"
     ]
    }
   ],
   "source": [
    "import numba\n",
    "\n",
    "data = {'col1':[1,2,3,4],'col2':[3,7,5,6]}\n",
    "idx = ['row1','row2','row3','row4']\n",
    "df = pd.DataFrame(data = data, index = idx)\n",
    "print(df)"
   ]
  },
  {
   "attachments": {},
   "cell_type": "markdown",
   "metadata": {},
   "source": [
    "mean(평균),max(최대값),sum(총합),min(최소값),median(중간값),std(표준편차)"
   ]
  },
  {
   "cell_type": "code",
   "execution_count": 252,
   "metadata": {},
   "outputs": [
    {
     "name": "stdout",
     "output_type": "stream",
     "text": [
      "      col1  col2\n",
      "row1   1.0   3.0\n",
      "row2   3.0  10.0\n",
      "row3   6.0  15.0\n",
      "row4  10.0  21.0\n"
     ]
    }
   ],
   "source": [
    "print(df.expanding().sum())"
   ]
  },
  {
   "cell_type": "code",
   "execution_count": 253,
   "metadata": {},
   "outputs": [
    {
     "name": "stdout",
     "output_type": "stream",
     "text": [
      "      col1  col2\n",
      "row1   NaN   NaN\n",
      "row2   3.0  10.0\n",
      "row3   6.0  15.0\n",
      "row4  10.0  21.0\n"
     ]
    }
   ],
   "source": [
    "print(df.expanding(min_periods=3).sum())"
   ]
  },
  {
   "cell_type": "code",
   "execution_count": 254,
   "metadata": {},
   "outputs": [
    {
     "name": "stdout",
     "output_type": "stream",
     "text": [
      "      col1  col2\n",
      "row1   1.0   4.0\n",
      "row2   2.0   9.0\n",
      "row3   3.0   8.0\n",
      "row4   4.0  10.0\n"
     ]
    }
   ],
   "source": [
    "print(df.expanding(axis=1).sum())"
   ]
  },
  {
   "cell_type": "code",
   "execution_count": 255,
   "metadata": {},
   "outputs": [
    {
     "name": "stdout",
     "output_type": "stream",
     "text": [
      "      col1  col2\n",
      "row1   1.0   3.0\n",
      "row2   3.0  10.0\n",
      "row3   6.0  15.0\n",
      "row4  10.0  21.0\n"
     ]
    }
   ],
   "source": [
    "print(df.expanding(method='table').sum(engine='numba'))"
   ]
  },
  {
   "attachments": {},
   "cell_type": "markdown",
   "metadata": {},
   "source": [
    "rolling 메서드(이동평균 함수)\n",
    "현재 열에 대하여 일정 크기의 창(window)를 이용하여 그 window안의 값을 추가 메서드를 통해 계산하는 메서드\n",
    "기본 사용법\n",
    "df.rolling(window, min_periods=None, center=False, win_type=None, on=None, axis=0, closed=None, method='single')\n",
    "window : 계산할 창(window)의 크기\n",
    "    열 기준으로 계산할 경우 행의 수\n",
    "min_periods : 계산할 최소 크기(기간)\n",
    "    window 안의 값의 수가 min_periods의 값보다 작을경우 NaN을 출력\n",
    "    기본적으로 window 크기와 동일\n",
    "center : {True / False} 레이블을 window의 중간에 둘지 여부\n",
    "    기본값은 False로 레이블이 창 우측에 위치\n",
    "win_type : {'triang' / 'gaussian' / ...} 가중치를 넣어 계산할 경우 계산 방식\n",
    "on : 시계열 인덱스나, 시계열과 유사한 열이 있을 경우 이 열을 기준으로 rolling을 수행\n",
    "axis : 계산의 기준이 될 축\n",
    "closed : {'left' / 'right' / 'both' / 'neither'} window가 닫히는 방향\n",
    "method :{'single' / 'table'} numba 를 이용하여 테이블 계산을 진행하여 속도를 높힐지 여부"
   ]
  },
  {
   "cell_type": "code",
   "execution_count": 256,
   "metadata": {},
   "outputs": [
    {
     "name": "stdout",
     "output_type": "stream",
     "text": [
      "      col1              col2\n",
      "row1     1  2022-01-13 00:00\n",
      "row2     2  2022-01-13 00:30\n",
      "row3     3  2022-01-13 01:00\n",
      "row4     4  2022-01-13 01:30\n",
      "row5     5  2022-01-13 02:00\n",
      "row6     6  2022-01-13 02:30\n"
     ]
    }
   ],
   "source": [
    "period = pd.period_range(start='2022-01-13 00:00:00',end='2022-01-13 02:30:00',freq='30T')\n",
    "data = {'col1':[1,2,3,4,5,6],'col2':period}\n",
    "idx = ['row1','row2','row3','row4','row5','row6']\n",
    "df = pd.DataFrame(data= data, index = idx)\n",
    "print(df)"
   ]
  },
  {
   "attachments": {},
   "cell_type": "markdown",
   "metadata": {},
   "source": [
    "mean(평균),max(최대값),sum(총합),min(최소값),median(중간값),std(표준편차)"
   ]
  },
  {
   "cell_type": "code",
   "execution_count": 257,
   "metadata": {},
   "outputs": [
    {
     "name": "stdout",
     "output_type": "stream",
     "text": [
      "      col1\n",
      "row1   NaN\n",
      "row2   NaN\n",
      "row3   6.0\n",
      "row4   9.0\n",
      "row5  12.0\n",
      "row6  15.0\n"
     ]
    },
    {
     "name": "stderr",
     "output_type": "stream",
     "text": [
      "C:\\Users\\kosmo\\AppData\\Local\\Temp\\ipykernel_8504\\11481162.py:1: FutureWarning: Dropping of nuisance columns in rolling operations is deprecated; in a future version this will raise TypeError. Select only valid columns before calling the operation. Dropped columns were Index(['col2'], dtype='object')\n",
      "  print(df.rolling(window=3).sum())\n"
     ]
    }
   ],
   "source": [
    "print(df.rolling(window=3).sum())"
   ]
  },
  {
   "cell_type": "markdown",
   "metadata": {},
   "source": []
  }
 ],
 "metadata": {
  "kernelspec": {
   "display_name": "base",
   "language": "python",
   "name": "python3"
  },
  "language_info": {
   "codemirror_mode": {
    "name": "ipython",
    "version": 3
   },
   "file_extension": ".py",
   "mimetype": "text/x-python",
   "name": "python",
   "nbconvert_exporter": "python",
   "pygments_lexer": "ipython3",
   "version": "3.9.13"
  },
  "orig_nbformat": 4,
  "vscode": {
   "interpreter": {
    "hash": "ad2bdc8ecc057115af97d19610ffacc2b4e99fae6737bb82f5d7fb13d2f2c186"
   }
  }
 },
 "nbformat": 4,
 "nbformat_minor": 2
}
